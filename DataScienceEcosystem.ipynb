{
 "cells": [
  {
   "cell_type": "markdown",
   "id": "cb60a09c-d05b-4740-a3bb-43e661508ade",
   "metadata": {},
   "source": [
    "# Data Science Tools and Ecosystem\n",
    "\n",
    "**Objectives:**\n",
    "\n",
    "- List popular languages for Data Science.\n",
    "- Identify commonly used libraries in Data Science.\n",
    "- Explore tools used for Data Science development.\n",
    "- Perform simple arithmetic operations in Python.\n",
    "- Convert units (e.g., minutes to hours).\n"
   ]
  },
  {
   "cell_type": "code",
   "execution_count": 1,
   "id": "bc2bf829-2a9f-4b76-9d83-6becb755da6b",
   "metadata": {
    "tags": []
   },
   "outputs": [
    {
     "name": "stdout",
     "output_type": "stream",
     "text": [
      "In this notebook, Data Science Tools and Ecosystem are summarized.\n"
     ]
    }
   ],
   "source": [
    "print (\"In this notebook, Data Science Tools and Ecosystem are summarized.\")"
   ]
  },
  {
   "cell_type": "markdown",
   "id": "1f6bbee9-a0e5-407c-854e-677eee2259fc",
   "metadata": {},
   "source": [
    "Some of the popular languages that Data Scientists use are:\n",
    "\n",
    "1. Python\n",
    "2. R\n",
    "3. SQL\n",
    "4. Java\n",
    "5. Julia"
   ]
  },
  {
   "cell_type": "markdown",
   "id": "46a620e9-0688-4cdc-8836-ee2183efea69",
   "metadata": {},
   "source": [
    "Some of the commonly used libraries used by Data Scientists include:\n",
    "\n",
    "1. NumPy\n",
    "2. Pandas\n",
    "3. Matplotlib\n",
    "4. Scikit-learn\n",
    "5. TensorFlow\n"
   ]
  },
  {
   "cell_type": "markdown",
   "id": "f19c16e4-43dd-42ef-bf36-9dc5b79e04f4",
   "metadata": {},
   "source": [
    "| Data Science Tools       |\n",
    "|--------------------------|\n",
    "| Jupyter Notebook         |\n",
    "| RStudio                  |\n",
    "| Apache Zeppelin          |\n"
   ]
  },
  {
   "cell_type": "markdown",
   "id": "2cb7d86d-124d-478f-8e04-7645ec2a9c5a",
   "metadata": {
    "tags": []
   },
   "source": [
    "# this is a simpla arithmetic expression to multiply then add integer\n",
    "(3*4)+5"
   ]
  },
  {
   "cell_type": "code",
   "execution_count": 3,
   "id": "2ac1d331-22ac-4fc4-ab14-cfef964d7bc3",
   "metadata": {
    "tags": []
   },
   "outputs": [
    {
     "data": {
      "text/plain": [
       "17"
      ]
     },
     "execution_count": 3,
     "metadata": {},
     "output_type": "execute_result"
    }
   ],
   "source": [
    "# this is a simple arithmetic expression to multiply then add integer \n",
    "( 3 * 4) + 5 "
   ]
  },
  {
   "cell_type": "code",
   "execution_count": 4,
   "id": "56f203a0-cea1-4ae2-8fa2-bbd1c1a9de41",
   "metadata": {
    "tags": []
   },
   "outputs": [
    {
     "data": {
      "text/plain": [
       "3.3333333333333335"
      ]
     },
     "execution_count": 4,
     "metadata": {},
     "output_type": "execute_result"
    }
   ],
   "source": [
    "# This will convert 200 minutes to hours by diving by 60\n",
    "200 / 60"
   ]
  },
  {
   "cell_type": "markdown",
   "id": "0b0be3c4-8afe-4b75-ace1-54c9775ce88b",
   "metadata": {},
   "source": [
    "## Author\n",
    "\n",
    "Grace Yao Lomoua \n"
   ]
  },
  {
   "cell_type": "code",
   "execution_count": null,
   "id": "4ee65f81-8b14-43f5-9cf6-e544574b93b4",
   "metadata": {},
   "outputs": [],
   "source": []
  }
 ],
 "metadata": {
  "kernelspec": {
   "display_name": "Python 3 (ipykernel)",
   "language": "python",
   "name": "python3"
  },
  "language_info": {
   "codemirror_mode": {
    "name": "ipython",
    "version": 3
   },
   "file_extension": ".py",
   "mimetype": "text/x-python",
   "name": "python",
   "nbconvert_exporter": "python",
   "pygments_lexer": "ipython3",
   "version": "3.11.4"
  }
 },
 "nbformat": 4,
 "nbformat_minor": 5
}
